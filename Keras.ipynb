{
  "nbformat": 4,
  "nbformat_minor": 0,
  "metadata": {
    "colab": {
      "provenance": [],
      "authorship_tag": "ABX9TyP3r7aXhC+09GwUSczboimc",
      "include_colab_link": true
    },
    "kernelspec": {
      "name": "python3",
      "display_name": "Python 3"
    },
    "language_info": {
      "name": "python"
    }
  },
  "cells": [
    {
      "cell_type": "markdown",
      "metadata": {
        "id": "view-in-github",
        "colab_type": "text"
      },
      "source": [
        "<a href=\"https://colab.research.google.com/github/MohamedTolba1199/Keras/blob/main/Keras.ipynb\" target=\"_parent\"><img src=\"https://colab.research.google.com/assets/colab-badge.svg\" alt=\"Open In Colab\"/></a>"
      ]
    },
    {
      "cell_type": "markdown",
      "source": [
        "#I have two methods in Keras to build a neural network:\n",
        "1) Functional Sequential.\n",
        "2) Functional Model."
      ],
      "metadata": {
        "id": "ytpUTT_73vCy"
      }
    },
    {
      "cell_type": "markdown",
      "source": [
        "##  Regression Model with Keras using Functional sequantial"
      ],
      "metadata": {
        "id": "r1Sswlgp4bqO"
      }
    },
    {
      "cell_type": "code",
      "source": [
        "import pandas as pd\n",
        "import numpy as np\n",
        "import tensorflow as tf"
      ],
      "metadata": {
        "id": "tLjMvn2D4x5f"
      },
      "execution_count": 1,
      "outputs": []
    },
    {
      "cell_type": "code",
      "execution_count": 2,
      "metadata": {
        "colab": {
          "base_uri": "https://localhost:8080/",
          "height": 276
        },
        "id": "Atuv0Fda3LVw",
        "outputId": "6d822a8e-9b5a-491e-e93d-fcc81bfb1ba9"
      },
      "outputs": [
        {
          "output_type": "execute_result",
          "data": {
            "text/plain": [
              "   Model-Year   Make              Model Vehicle-Class  Engine-Size  Cylinders  \\\n",
              "0        2019  Acura                ILX       Compact          2.4          4   \n",
              "1        2019  Acura         MDX SH-AWD    SUV: Small          3.5          6   \n",
              "2        2019  Acura  MDX SH-AWD A-SPEC    SUV: Small          3.5          6   \n",
              "3        2019  Acura     MDX Hybrid AWD    SUV: Small          3.0          6   \n",
              "4        2019  Acura                NSX    Two-seater          3.5          6   \n",
              "\n",
              "  Transmission Fuel-Type  Fuel-Consumption-City  Fuel-Consumption-Hwy  \\\n",
              "0          AM8         Z                    9.9                   7.0   \n",
              "1          AS9         Z                   12.2                   9.0   \n",
              "2          AS9         Z                   12.2                   9.5   \n",
              "3          AM7         Z                    9.1                   9.0   \n",
              "4          AM9         Z                   11.1                  10.8   \n",
              "\n",
              "   Fuel-Consumption-Comb  CO2-Emissions  \n",
              "0                    8.6            199  \n",
              "1                   10.8            252  \n",
              "2                   11.0            258  \n",
              "3                    9.0            210  \n",
              "4                   11.0            261  "
            ],
            "text/html": [
              "\n",
              "  <div id=\"df-20e66d14-6a8e-46ce-83f6-94093be68119\" class=\"colab-df-container\">\n",
              "    <div>\n",
              "<style scoped>\n",
              "    .dataframe tbody tr th:only-of-type {\n",
              "        vertical-align: middle;\n",
              "    }\n",
              "\n",
              "    .dataframe tbody tr th {\n",
              "        vertical-align: top;\n",
              "    }\n",
              "\n",
              "    .dataframe thead th {\n",
              "        text-align: right;\n",
              "    }\n",
              "</style>\n",
              "<table border=\"1\" class=\"dataframe\">\n",
              "  <thead>\n",
              "    <tr style=\"text-align: right;\">\n",
              "      <th></th>\n",
              "      <th>Model-Year</th>\n",
              "      <th>Make</th>\n",
              "      <th>Model</th>\n",
              "      <th>Vehicle-Class</th>\n",
              "      <th>Engine-Size</th>\n",
              "      <th>Cylinders</th>\n",
              "      <th>Transmission</th>\n",
              "      <th>Fuel-Type</th>\n",
              "      <th>Fuel-Consumption-City</th>\n",
              "      <th>Fuel-Consumption-Hwy</th>\n",
              "      <th>Fuel-Consumption-Comb</th>\n",
              "      <th>CO2-Emissions</th>\n",
              "    </tr>\n",
              "  </thead>\n",
              "  <tbody>\n",
              "    <tr>\n",
              "      <th>0</th>\n",
              "      <td>2019</td>\n",
              "      <td>Acura</td>\n",
              "      <td>ILX</td>\n",
              "      <td>Compact</td>\n",
              "      <td>2.4</td>\n",
              "      <td>4</td>\n",
              "      <td>AM8</td>\n",
              "      <td>Z</td>\n",
              "      <td>9.9</td>\n",
              "      <td>7.0</td>\n",
              "      <td>8.6</td>\n",
              "      <td>199</td>\n",
              "    </tr>\n",
              "    <tr>\n",
              "      <th>1</th>\n",
              "      <td>2019</td>\n",
              "      <td>Acura</td>\n",
              "      <td>MDX SH-AWD</td>\n",
              "      <td>SUV: Small</td>\n",
              "      <td>3.5</td>\n",
              "      <td>6</td>\n",
              "      <td>AS9</td>\n",
              "      <td>Z</td>\n",
              "      <td>12.2</td>\n",
              "      <td>9.0</td>\n",
              "      <td>10.8</td>\n",
              "      <td>252</td>\n",
              "    </tr>\n",
              "    <tr>\n",
              "      <th>2</th>\n",
              "      <td>2019</td>\n",
              "      <td>Acura</td>\n",
              "      <td>MDX SH-AWD A-SPEC</td>\n",
              "      <td>SUV: Small</td>\n",
              "      <td>3.5</td>\n",
              "      <td>6</td>\n",
              "      <td>AS9</td>\n",
              "      <td>Z</td>\n",
              "      <td>12.2</td>\n",
              "      <td>9.5</td>\n",
              "      <td>11.0</td>\n",
              "      <td>258</td>\n",
              "    </tr>\n",
              "    <tr>\n",
              "      <th>3</th>\n",
              "      <td>2019</td>\n",
              "      <td>Acura</td>\n",
              "      <td>MDX Hybrid AWD</td>\n",
              "      <td>SUV: Small</td>\n",
              "      <td>3.0</td>\n",
              "      <td>6</td>\n",
              "      <td>AM7</td>\n",
              "      <td>Z</td>\n",
              "      <td>9.1</td>\n",
              "      <td>9.0</td>\n",
              "      <td>9.0</td>\n",
              "      <td>210</td>\n",
              "    </tr>\n",
              "    <tr>\n",
              "      <th>4</th>\n",
              "      <td>2019</td>\n",
              "      <td>Acura</td>\n",
              "      <td>NSX</td>\n",
              "      <td>Two-seater</td>\n",
              "      <td>3.5</td>\n",
              "      <td>6</td>\n",
              "      <td>AM9</td>\n",
              "      <td>Z</td>\n",
              "      <td>11.1</td>\n",
              "      <td>10.8</td>\n",
              "      <td>11.0</td>\n",
              "      <td>261</td>\n",
              "    </tr>\n",
              "  </tbody>\n",
              "</table>\n",
              "</div>\n",
              "    <div class=\"colab-df-buttons\">\n",
              "\n",
              "  <div class=\"colab-df-container\">\n",
              "    <button class=\"colab-df-convert\" onclick=\"convertToInteractive('df-20e66d14-6a8e-46ce-83f6-94093be68119')\"\n",
              "            title=\"Convert this dataframe to an interactive table.\"\n",
              "            style=\"display:none;\">\n",
              "\n",
              "  <svg xmlns=\"http://www.w3.org/2000/svg\" height=\"24px\" viewBox=\"0 -960 960 960\">\n",
              "    <path d=\"M120-120v-720h720v720H120Zm60-500h600v-160H180v160Zm220 220h160v-160H400v160Zm0 220h160v-160H400v160ZM180-400h160v-160H180v160Zm440 0h160v-160H620v160ZM180-180h160v-160H180v160Zm440 0h160v-160H620v160Z\"/>\n",
              "  </svg>\n",
              "    </button>\n",
              "\n",
              "  <style>\n",
              "    .colab-df-container {\n",
              "      display:flex;\n",
              "      gap: 12px;\n",
              "    }\n",
              "\n",
              "    .colab-df-convert {\n",
              "      background-color: #E8F0FE;\n",
              "      border: none;\n",
              "      border-radius: 50%;\n",
              "      cursor: pointer;\n",
              "      display: none;\n",
              "      fill: #1967D2;\n",
              "      height: 32px;\n",
              "      padding: 0 0 0 0;\n",
              "      width: 32px;\n",
              "    }\n",
              "\n",
              "    .colab-df-convert:hover {\n",
              "      background-color: #E2EBFA;\n",
              "      box-shadow: 0px 1px 2px rgba(60, 64, 67, 0.3), 0px 1px 3px 1px rgba(60, 64, 67, 0.15);\n",
              "      fill: #174EA6;\n",
              "    }\n",
              "\n",
              "    .colab-df-buttons div {\n",
              "      margin-bottom: 4px;\n",
              "    }\n",
              "\n",
              "    [theme=dark] .colab-df-convert {\n",
              "      background-color: #3B4455;\n",
              "      fill: #D2E3FC;\n",
              "    }\n",
              "\n",
              "    [theme=dark] .colab-df-convert:hover {\n",
              "      background-color: #434B5C;\n",
              "      box-shadow: 0px 1px 3px 1px rgba(0, 0, 0, 0.15);\n",
              "      filter: drop-shadow(0px 1px 2px rgba(0, 0, 0, 0.3));\n",
              "      fill: #FFFFFF;\n",
              "    }\n",
              "  </style>\n",
              "\n",
              "    <script>\n",
              "      const buttonEl =\n",
              "        document.querySelector('#df-20e66d14-6a8e-46ce-83f6-94093be68119 button.colab-df-convert');\n",
              "      buttonEl.style.display =\n",
              "        google.colab.kernel.accessAllowed ? 'block' : 'none';\n",
              "\n",
              "      async function convertToInteractive(key) {\n",
              "        const element = document.querySelector('#df-20e66d14-6a8e-46ce-83f6-94093be68119');\n",
              "        const dataTable =\n",
              "          await google.colab.kernel.invokeFunction('convertToInteractive',\n",
              "                                                    [key], {});\n",
              "        if (!dataTable) return;\n",
              "\n",
              "        const docLinkHtml = 'Like what you see? Visit the ' +\n",
              "          '<a target=\"_blank\" href=https://colab.research.google.com/notebooks/data_table.ipynb>data table notebook</a>'\n",
              "          + ' to learn more about interactive tables.';\n",
              "        element.innerHTML = '';\n",
              "        dataTable['output_type'] = 'display_data';\n",
              "        await google.colab.output.renderOutput(dataTable, element);\n",
              "        const docLink = document.createElement('div');\n",
              "        docLink.innerHTML = docLinkHtml;\n",
              "        element.appendChild(docLink);\n",
              "      }\n",
              "    </script>\n",
              "  </div>\n",
              "\n",
              "\n",
              "<div id=\"df-b5036759-f8a7-490c-94d8-cd0fe924f7e7\">\n",
              "  <button class=\"colab-df-quickchart\" onclick=\"quickchart('df-b5036759-f8a7-490c-94d8-cd0fe924f7e7')\"\n",
              "            title=\"Suggest charts\"\n",
              "            style=\"display:none;\">\n",
              "\n",
              "<svg xmlns=\"http://www.w3.org/2000/svg\" height=\"24px\"viewBox=\"0 0 24 24\"\n",
              "     width=\"24px\">\n",
              "    <g>\n",
              "        <path d=\"M19 3H5c-1.1 0-2 .9-2 2v14c0 1.1.9 2 2 2h14c1.1 0 2-.9 2-2V5c0-1.1-.9-2-2-2zM9 17H7v-7h2v7zm4 0h-2V7h2v10zm4 0h-2v-4h2v4z\"/>\n",
              "    </g>\n",
              "</svg>\n",
              "  </button>\n",
              "\n",
              "<style>\n",
              "  .colab-df-quickchart {\n",
              "      --bg-color: #E8F0FE;\n",
              "      --fill-color: #1967D2;\n",
              "      --hover-bg-color: #E2EBFA;\n",
              "      --hover-fill-color: #174EA6;\n",
              "      --disabled-fill-color: #AAA;\n",
              "      --disabled-bg-color: #DDD;\n",
              "  }\n",
              "\n",
              "  [theme=dark] .colab-df-quickchart {\n",
              "      --bg-color: #3B4455;\n",
              "      --fill-color: #D2E3FC;\n",
              "      --hover-bg-color: #434B5C;\n",
              "      --hover-fill-color: #FFFFFF;\n",
              "      --disabled-bg-color: #3B4455;\n",
              "      --disabled-fill-color: #666;\n",
              "  }\n",
              "\n",
              "  .colab-df-quickchart {\n",
              "    background-color: var(--bg-color);\n",
              "    border: none;\n",
              "    border-radius: 50%;\n",
              "    cursor: pointer;\n",
              "    display: none;\n",
              "    fill: var(--fill-color);\n",
              "    height: 32px;\n",
              "    padding: 0;\n",
              "    width: 32px;\n",
              "  }\n",
              "\n",
              "  .colab-df-quickchart:hover {\n",
              "    background-color: var(--hover-bg-color);\n",
              "    box-shadow: 0 1px 2px rgba(60, 64, 67, 0.3), 0 1px 3px 1px rgba(60, 64, 67, 0.15);\n",
              "    fill: var(--button-hover-fill-color);\n",
              "  }\n",
              "\n",
              "  .colab-df-quickchart-complete:disabled,\n",
              "  .colab-df-quickchart-complete:disabled:hover {\n",
              "    background-color: var(--disabled-bg-color);\n",
              "    fill: var(--disabled-fill-color);\n",
              "    box-shadow: none;\n",
              "  }\n",
              "\n",
              "  .colab-df-spinner {\n",
              "    border: 2px solid var(--fill-color);\n",
              "    border-color: transparent;\n",
              "    border-bottom-color: var(--fill-color);\n",
              "    animation:\n",
              "      spin 1s steps(1) infinite;\n",
              "  }\n",
              "\n",
              "  @keyframes spin {\n",
              "    0% {\n",
              "      border-color: transparent;\n",
              "      border-bottom-color: var(--fill-color);\n",
              "      border-left-color: var(--fill-color);\n",
              "    }\n",
              "    20% {\n",
              "      border-color: transparent;\n",
              "      border-left-color: var(--fill-color);\n",
              "      border-top-color: var(--fill-color);\n",
              "    }\n",
              "    30% {\n",
              "      border-color: transparent;\n",
              "      border-left-color: var(--fill-color);\n",
              "      border-top-color: var(--fill-color);\n",
              "      border-right-color: var(--fill-color);\n",
              "    }\n",
              "    40% {\n",
              "      border-color: transparent;\n",
              "      border-right-color: var(--fill-color);\n",
              "      border-top-color: var(--fill-color);\n",
              "    }\n",
              "    60% {\n",
              "      border-color: transparent;\n",
              "      border-right-color: var(--fill-color);\n",
              "    }\n",
              "    80% {\n",
              "      border-color: transparent;\n",
              "      border-right-color: var(--fill-color);\n",
              "      border-bottom-color: var(--fill-color);\n",
              "    }\n",
              "    90% {\n",
              "      border-color: transparent;\n",
              "      border-bottom-color: var(--fill-color);\n",
              "    }\n",
              "  }\n",
              "</style>\n",
              "\n",
              "  <script>\n",
              "    async function quickchart(key) {\n",
              "      const quickchartButtonEl =\n",
              "        document.querySelector('#' + key + ' button');\n",
              "      quickchartButtonEl.disabled = true;  // To prevent multiple clicks.\n",
              "      quickchartButtonEl.classList.add('colab-df-spinner');\n",
              "      try {\n",
              "        const charts = await google.colab.kernel.invokeFunction(\n",
              "            'suggestCharts', [key], {});\n",
              "      } catch (error) {\n",
              "        console.error('Error during call to suggestCharts:', error);\n",
              "      }\n",
              "      quickchartButtonEl.classList.remove('colab-df-spinner');\n",
              "      quickchartButtonEl.classList.add('colab-df-quickchart-complete');\n",
              "    }\n",
              "    (() => {\n",
              "      let quickchartButtonEl =\n",
              "        document.querySelector('#df-b5036759-f8a7-490c-94d8-cd0fe924f7e7 button');\n",
              "      quickchartButtonEl.style.display =\n",
              "        google.colab.kernel.accessAllowed ? 'block' : 'none';\n",
              "    })();\n",
              "  </script>\n",
              "</div>\n",
              "\n",
              "    </div>\n",
              "  </div>\n"
            ]
          },
          "metadata": {},
          "execution_count": 2
        }
      ],
      "source": [
        "data=pd.read_csv('Fuel consumption 2019.csv')\n",
        "data.head()\n"
      ]
    },
    {
      "cell_type": "code",
      "source": [
        "X=data.iloc[:,[4,5,8]].values\n",
        "y=data.iloc[:,-1].values"
      ],
      "metadata": {
        "id": "Qs1neD1dIsrT"
      },
      "execution_count": 3,
      "outputs": []
    },
    {
      "cell_type": "code",
      "source": [
        "X.shape"
      ],
      "metadata": {
        "colab": {
          "base_uri": "https://localhost:8080/"
        },
        "id": "FGuE96XWJNVY",
        "outputId": "dc95012b-90b0-4dda-e180-12458f9a3b1e"
      },
      "execution_count": 4,
      "outputs": [
        {
          "output_type": "execute_result",
          "data": {
            "text/plain": [
              "(1046, 3)"
            ]
          },
          "metadata": {},
          "execution_count": 4
        }
      ]
    },
    {
      "cell_type": "code",
      "source": [
        "from tensorflow.keras.models import Sequential\n",
        "from tensorflow.keras.layers import Dense"
      ],
      "metadata": {
        "id": "wn4G4YH0JP_v"
      },
      "execution_count": 5,
      "outputs": []
    },
    {
      "cell_type": "code",
      "source": [
        "model=Sequential()\n",
        "model.add(Dense(units=3, activation='relu',input_shape=(3,)))\n",
        "model.add(Dense(units=3, activation='relu'))\n",
        "model.add(Dense(units=1))"
      ],
      "metadata": {
        "id": "g8cqGXCsJchc"
      },
      "execution_count": 6,
      "outputs": []
    },
    {
      "cell_type": "code",
      "source": [
        "model.summary()"
      ],
      "metadata": {
        "colab": {
          "base_uri": "https://localhost:8080/"
        },
        "id": "QU2AuhfVLvVU",
        "outputId": "b1f72c8f-9900-4bd0-ceb4-6eb0f44cffc0"
      },
      "execution_count": 7,
      "outputs": [
        {
          "output_type": "stream",
          "name": "stdout",
          "text": [
            "Model: \"sequential\"\n",
            "_________________________________________________________________\n",
            " Layer (type)                Output Shape              Param #   \n",
            "=================================================================\n",
            " dense (Dense)               (None, 3)                 12        \n",
            "                                                                 \n",
            " dense_1 (Dense)             (None, 3)                 12        \n",
            "                                                                 \n",
            " dense_2 (Dense)             (None, 1)                 4         \n",
            "                                                                 \n",
            "=================================================================\n",
            "Total params: 28 (112.00 Byte)\n",
            "Trainable params: 28 (112.00 Byte)\n",
            "Non-trainable params: 0 (0.00 Byte)\n",
            "_________________________________________________________________\n"
          ]
        }
      ]
    },
    {
      "cell_type": "code",
      "source": [
        "model.compile(loss='mse',optimizer='sgd')\n",
        "model.fit(X,y,epochs=25,batch_size=32)"
      ],
      "metadata": {
        "colab": {
          "base_uri": "https://localhost:8080/"
        },
        "id": "YUCMR7BiLzs2",
        "outputId": "df2427b9-42c4-4fab-ddee-e4b68bdef34a"
      },
      "execution_count": 8,
      "outputs": [
        {
          "output_type": "stream",
          "name": "stdout",
          "text": [
            "Epoch 1/25\n",
            "33/33 [==============================] - 1s 4ms/step - loss: 39039.0312\n",
            "Epoch 2/25\n",
            "33/33 [==============================] - 0s 5ms/step - loss: 12687.0889\n",
            "Epoch 3/25\n",
            "33/33 [==============================] - 0s 6ms/step - loss: 5740.2148\n",
            "Epoch 4/25\n",
            "33/33 [==============================] - 0s 6ms/step - loss: 3919.4800\n",
            "Epoch 5/25\n",
            "33/33 [==============================] - 0s 3ms/step - loss: 3428.8513\n",
            "Epoch 6/25\n",
            "33/33 [==============================] - 0s 4ms/step - loss: 3296.8374\n",
            "Epoch 7/25\n",
            "33/33 [==============================] - 0s 4ms/step - loss: 3261.5483\n",
            "Epoch 8/25\n",
            "33/33 [==============================] - 0s 5ms/step - loss: 3252.9739\n",
            "Epoch 9/25\n",
            "33/33 [==============================] - 0s 3ms/step - loss: 3250.8828\n",
            "Epoch 10/25\n",
            "33/33 [==============================] - 0s 4ms/step - loss: 3249.4797\n",
            "Epoch 11/25\n",
            "33/33 [==============================] - 0s 5ms/step - loss: 3249.8813\n",
            "Epoch 12/25\n",
            "33/33 [==============================] - 0s 4ms/step - loss: 3249.3562\n",
            "Epoch 13/25\n",
            "33/33 [==============================] - 0s 4ms/step - loss: 3249.5149\n",
            "Epoch 14/25\n",
            "33/33 [==============================] - 0s 4ms/step - loss: 3249.4502\n",
            "Epoch 15/25\n",
            "33/33 [==============================] - 0s 3ms/step - loss: 3249.0852\n",
            "Epoch 16/25\n",
            "33/33 [==============================] - 0s 4ms/step - loss: 3250.3474\n",
            "Epoch 17/25\n",
            "33/33 [==============================] - 0s 2ms/step - loss: 3249.5200\n",
            "Epoch 18/25\n",
            "33/33 [==============================] - 0s 4ms/step - loss: 3250.5818\n",
            "Epoch 19/25\n",
            "33/33 [==============================] - 0s 5ms/step - loss: 3249.4622\n",
            "Epoch 20/25\n",
            "33/33 [==============================] - 0s 5ms/step - loss: 3249.6272\n",
            "Epoch 21/25\n",
            "33/33 [==============================] - 0s 3ms/step - loss: 3249.7830\n",
            "Epoch 22/25\n",
            "33/33 [==============================] - 0s 4ms/step - loss: 3249.7378\n",
            "Epoch 23/25\n",
            "33/33 [==============================] - 0s 5ms/step - loss: 3249.0754\n",
            "Epoch 24/25\n",
            "33/33 [==============================] - 0s 5ms/step - loss: 3249.4370\n",
            "Epoch 25/25\n",
            "33/33 [==============================] - 0s 4ms/step - loss: 3249.5198\n"
          ]
        },
        {
          "output_type": "execute_result",
          "data": {
            "text/plain": [
              "<keras.src.callbacks.History at 0x7afa79433a00>"
            ]
          },
          "metadata": {},
          "execution_count": 8
        }
      ]
    },
    {
      "cell_type": "markdown",
      "source": [],
      "metadata": {
        "id": "JgPjwPPaNIkJ"
      }
    },
    {
      "cell_type": "markdown",
      "source": [
        "##  Regression Model with Keras using Functional Model"
      ],
      "metadata": {
        "id": "pq_xL17UNJyW"
      }
    },
    {
      "cell_type": "code",
      "source": [
        "from tensorflow.keras.models import Model\n",
        "from tensorflow.keras.layers import Dense , Input"
      ],
      "metadata": {
        "id": "7rkBsN4hNBgz"
      },
      "execution_count": 9,
      "outputs": []
    },
    {
      "cell_type": "code",
      "source": [
        "inp = Input(shape=(3,))\n",
        "h1 = Dense(units=3, activation='relu')(inp)\n",
        "h2 = Dense(units=3, activation='relu')(h1)\n",
        "out= Dense(units=1)(h2)\n",
        "model = Model(inputs=inp , outputs=out)"
      ],
      "metadata": {
        "id": "DUa8VktvOH0F"
      },
      "execution_count": 10,
      "outputs": []
    },
    {
      "cell_type": "code",
      "source": [
        "model.summary()"
      ],
      "metadata": {
        "colab": {
          "base_uri": "https://localhost:8080/"
        },
        "id": "kuju2QMZPkPj",
        "outputId": "6b9872f2-12cf-48ca-abd0-bba4e595dae8"
      },
      "execution_count": 11,
      "outputs": [
        {
          "output_type": "stream",
          "name": "stdout",
          "text": [
            "Model: \"model\"\n",
            "_________________________________________________________________\n",
            " Layer (type)                Output Shape              Param #   \n",
            "=================================================================\n",
            " input_1 (InputLayer)        [(None, 3)]               0         \n",
            "                                                                 \n",
            " dense_3 (Dense)             (None, 3)                 12        \n",
            "                                                                 \n",
            " dense_4 (Dense)             (None, 3)                 12        \n",
            "                                                                 \n",
            " dense_5 (Dense)             (None, 1)                 4         \n",
            "                                                                 \n",
            "=================================================================\n",
            "Total params: 28 (112.00 Byte)\n",
            "Trainable params: 28 (112.00 Byte)\n",
            "Non-trainable params: 0 (0.00 Byte)\n",
            "_________________________________________________________________\n"
          ]
        }
      ]
    },
    {
      "cell_type": "code",
      "source": [
        "model.compile(loss='mse',optimizer='sgd')\n",
        "model.fit(X,y,epochs=20,batch_size=128)"
      ],
      "metadata": {
        "colab": {
          "base_uri": "https://localhost:8080/"
        },
        "id": "C5JtWGLkPpae",
        "outputId": "73ef5cdc-31e7-4752-91c4-a70bb72b2e46"
      },
      "execution_count": 12,
      "outputs": [
        {
          "output_type": "stream",
          "name": "stdout",
          "text": [
            "Epoch 1/20\n",
            "9/9 [==============================] - 1s 2ms/step - loss: 427275190272.0000\n",
            "Epoch 2/20\n",
            "9/9 [==============================] - 0s 3ms/step - loss: 1476445696.0000\n",
            "Epoch 3/20\n",
            "9/9 [==============================] - 0s 3ms/step - loss: 1026329728.0000\n",
            "Epoch 4/20\n",
            "9/9 [==============================] - 0s 3ms/step - loss: 713444288.0000\n",
            "Epoch 5/20\n",
            "9/9 [==============================] - 0s 3ms/step - loss: 495930144.0000\n",
            "Epoch 6/20\n",
            "9/9 [==============================] - 0s 2ms/step - loss: 344725888.0000\n",
            "Epoch 7/20\n",
            "9/9 [==============================] - 0s 2ms/step - loss: 239631920.0000\n",
            "Epoch 8/20\n",
            "9/9 [==============================] - 0s 3ms/step - loss: 166573312.0000\n",
            "Epoch 9/20\n",
            "9/9 [==============================] - 0s 2ms/step - loss: 115794616.0000\n",
            "Epoch 10/20\n",
            "9/9 [==============================] - 0s 3ms/step - loss: 80496784.0000\n",
            "Epoch 11/20\n",
            "9/9 [==============================] - 0s 5ms/step - loss: 55951524.0000\n",
            "Epoch 12/20\n",
            "9/9 [==============================] - 0s 5ms/step - loss: 38892144.0000\n",
            "Epoch 13/20\n",
            "9/9 [==============================] - 0s 4ms/step - loss: 27036686.0000\n",
            "Epoch 14/20\n",
            "9/9 [==============================] - 0s 4ms/step - loss: 18794334.0000\n",
            "Epoch 15/20\n",
            "9/9 [==============================] - 0s 4ms/step - loss: 13066568.0000\n",
            "Epoch 16/20\n",
            "9/9 [==============================] - 0s 3ms/step - loss: 9082909.0000\n",
            "Epoch 17/20\n",
            "9/9 [==============================] - 0s 3ms/step - loss: 6314822.0000\n",
            "Epoch 18/20\n",
            "9/9 [==============================] - 0s 3ms/step - loss: 4391691.0000\n",
            "Epoch 19/20\n",
            "9/9 [==============================] - 0s 3ms/step - loss: 3054136.7500\n",
            "Epoch 20/20\n",
            "9/9 [==============================] - 0s 3ms/step - loss: 2123950.2500\n"
          ]
        },
        {
          "output_type": "execute_result",
          "data": {
            "text/plain": [
              "<keras.src.callbacks.History at 0x7afa788c7370>"
            ]
          },
          "metadata": {},
          "execution_count": 12
        }
      ]
    },
    {
      "cell_type": "markdown",
      "source": [
        "##multi_input & Multi_output using Functional Model"
      ],
      "metadata": {
        "id": "Sai9pwzhTyQw"
      }
    },
    {
      "cell_type": "code",
      "source": [
        "input1 = Input(shape=(2,))\n",
        "input2 = Input(shape=(3,))\n",
        "\n",
        "h1 = Dense(3,activation='relu')(input1)\n",
        "h2 = Dense(3,activation='relu')(input2)\n",
        "\n",
        "output1 = Dense(1)(h1)\n",
        "output2 = Dense(1)(h2)\n",
        "\n",
        "model = Model(inputs=[input1 , input2] , outputs=[output1 , output2])"
      ],
      "metadata": {
        "id": "wRdlsoNMQJ5Z"
      },
      "execution_count": 14,
      "outputs": []
    },
    {
      "cell_type": "code",
      "source": [
        "model.summary()"
      ],
      "metadata": {
        "colab": {
          "base_uri": "https://localhost:8080/"
        },
        "id": "_pDHH0AiisJa",
        "outputId": "d51998bb-5c6b-46d4-99eb-d877dddfd499"
      },
      "execution_count": 15,
      "outputs": [
        {
          "output_type": "stream",
          "name": "stdout",
          "text": [
            "Model: \"model_1\"\n",
            "__________________________________________________________________________________________________\n",
            " Layer (type)                Output Shape                 Param #   Connected to                  \n",
            "==================================================================================================\n",
            " input_4 (InputLayer)        [(None, 2)]                  0         []                            \n",
            "                                                                                                  \n",
            " input_5 (InputLayer)        [(None, 3)]                  0         []                            \n",
            "                                                                                                  \n",
            " dense_10 (Dense)            (None, 3)                    9         ['input_4[0][0]']             \n",
            "                                                                                                  \n",
            " dense_11 (Dense)            (None, 3)                    12        ['input_5[0][0]']             \n",
            "                                                                                                  \n",
            " dense_12 (Dense)            (None, 1)                    4         ['dense_10[0][0]']            \n",
            "                                                                                                  \n",
            " dense_13 (Dense)            (None, 1)                    4         ['dense_11[0][0]']            \n",
            "                                                                                                  \n",
            "==================================================================================================\n",
            "Total params: 29 (116.00 Byte)\n",
            "Trainable params: 29 (116.00 Byte)\n",
            "Non-trainable params: 0 (0.00 Byte)\n",
            "__________________________________________________________________________________________________\n"
          ]
        }
      ]
    },
    {
      "cell_type": "markdown",
      "source": [
        "## Multi_input & one Output using Fn.Model"
      ],
      "metadata": {
        "id": "3C7PLeC6twJ3"
      }
    },
    {
      "cell_type": "code",
      "source": [
        "input1 = Input(shape=(3,))\n",
        "input2 = Input(shape=(2,))\n",
        "\n",
        "h1 = Dense(5)(input1)\n",
        "h2 = Dense(5)(input2)\n",
        "\n",
        "output1 = Dense(1)(h1)\n",
        "output2 = Dense(1)(h2)\n",
        "out= output1 + output2\n",
        "\n",
        "model = Model(inputs=[input1 , input2] , outputs=[out])"
      ],
      "metadata": {
        "id": "p7CQYHdksS1r"
      },
      "execution_count": 19,
      "outputs": []
    },
    {
      "cell_type": "code",
      "source": [
        "model.summary()"
      ],
      "metadata": {
        "colab": {
          "base_uri": "https://localhost:8080/"
        },
        "id": "GgCgpi5CtEQk",
        "outputId": "02f35861-e7ca-46a6-82a9-b9054ac53129"
      },
      "execution_count": 18,
      "outputs": [
        {
          "output_type": "stream",
          "name": "stdout",
          "text": [
            "Model: \"model_2\"\n",
            "__________________________________________________________________________________________________\n",
            " Layer (type)                Output Shape                 Param #   Connected to                  \n",
            "==================================================================================================\n",
            " input_6 (InputLayer)        [(None, 3)]                  0         []                            \n",
            "                                                                                                  \n",
            " input_7 (InputLayer)        [(None, 2)]                  0         []                            \n",
            "                                                                                                  \n",
            " dense_14 (Dense)            (None, 5)                    20        ['input_6[0][0]']             \n",
            "                                                                                                  \n",
            " dense_15 (Dense)            (None, 5)                    15        ['input_7[0][0]']             \n",
            "                                                                                                  \n",
            " dense_16 (Dense)            (None, 1)                    6         ['dense_14[0][0]']            \n",
            "                                                                                                  \n",
            " dense_17 (Dense)            (None, 1)                    6         ['dense_15[0][0]']            \n",
            "                                                                                                  \n",
            " tf.__operators__.add (TFOp  (None, 1)                    0         ['dense_16[0][0]',            \n",
            " Lambda)                                                             'dense_17[0][0]']            \n",
            "                                                                                                  \n",
            "==================================================================================================\n",
            "Total params: 47 (188.00 Byte)\n",
            "Trainable params: 47 (188.00 Byte)\n",
            "Non-trainable params: 0 (0.00 Byte)\n",
            "__________________________________________________________________________________________________\n"
          ]
        }
      ]
    },
    {
      "cell_type": "code",
      "source": [],
      "metadata": {
        "id": "9ONw8LpxtHfR"
      },
      "execution_count": null,
      "outputs": []
    }
  ]
}